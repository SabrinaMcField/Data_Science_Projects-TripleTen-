{
 "cells": [
  {
   "cell_type": "markdown",
   "metadata": {},
   "source": [
    "# SOLUTION REPORT"
   ]
  },
  {
   "cell_type": "markdown",
   "metadata": {},
   "source": [
    "### Explanation of steps performed and steps that were skipped\n",
    "\n",
    "Most of the planned steps were successfully executed, with several improvements added along the way. Initially, my work plan was based on a dataset containing a user_id column, which did not align with the structure of the other files. After reassessing the data, I correctly used the version containing customer_id, allowing for a seamless and accurate merge of all datasets. This correction eliminated the need for a workaround and ensured the integrity of the merged dataset.\n",
    "\n",
    "From there, I proceeded with standardizing all column names to snake_case, converting all text to lowercase, and removing whitespace. These preprocessing steps helped create consistency and made later transformations and visualizations much easier.\n",
    "\n",
    "Although I initially planned to fill all missing values with 'unknown', further exploration of the dataset revealed that many missing values were not truly unknown. For example, missing entries in the multiple_lines column actually indicated customers with 'no_phone_service', and similarly, gaps in internet service columns corresponded to 'no_internet_service'. As a result, I refined my approach and filled those columns with more meaningful values based on context."
   ]
  },
  {
   "cell_type": "markdown",
   "metadata": {},
   "source": [
    "### Difficulties encountered and how they were managed"
   ]
  },
  {
   "cell_type": "markdown",
   "metadata": {},
   "source": [
    "One major challenge was working with the wrong identifier column in the initial plan (user_id vs customer_id), which would have prevented successful merging. Once corrected, merging went smoothly.\n",
    "\n",
    "Another hurdle was achieving strong model performance. At first, I used get_dummies() across the board and applied scaling inappropriately. Logistic regression performance dropped when scaled, and none of the models initially crossed an AUC-ROC score of 0.84.\n",
    "\n",
    "To overcome this, I re-evaluated which encoding methods were best suited for each model. I applied One-Hot Encoding for Logistic Regression, Ordinal Encoding for Random Forest, and CatBoost-style Target Encoding for XGBoost and LightGBM. This model-specific encoding, combined with more meaningful feature engineering, significantly improved model quality."
   ]
  },
  {
   "cell_type": "markdown",
   "metadata": {},
   "source": [
    "### Key steps in solving the task"
   ]
  },
  {
   "cell_type": "markdown",
   "metadata": {},
   "source": [
    "The most critical step was refining the feature engineering. I created several new columns that captured interactions and patterns within the data:\n",
    "\n",
    "- 'internet_tv_combo' to identify customers using both internet and streaming services\n",
    "\n",
    "- 'contract_support_combo' to link long-term contracts with tech support\n",
    "\n",
    "- 'avg_monthly_charge' to reflect how much customers spend monthly over their service duration\n",
    "\n",
    "- 'service_count' to show how many services each customer subscribed to\n",
    "\n",
    "- 'charge_per_service' to reflect the cost per service a customer is using\n",
    "\n",
    "These engineered features added important nuance to the dataset and helped models pick up deeper patterns that were not visible through raw features alone.\n",
    "\n",
    "Another key improvement was switching from generic encoding (like get_dummies) to model-specific strategies that improved both computational efficiency and predictive accuracy."
   ]
  },
  {
   "cell_type": "markdown",
   "metadata": {},
   "source": [
    "### Final model and quality score"
   ]
  },
  {
   "cell_type": "markdown",
   "metadata": {},
   "source": [
    "The final model is a Logistic Regression classifier with balanced class weights:\n",
    "\n",
    "**log_model = LogisticRegression(class_weight='balanced', max_iter=1000, random_state=42)**\n",
    "\n",
    "This model performed strongly without scaling and achieved the highest AUC-ROC score among all models tested.\n",
    "\n",
    "- Validation Accuracy: 94%\n",
    "\n",
    "- Validation AUC-ROC: 0.9787\n",
    "\n",
    "- Test Accuracy: 91.7%\n",
    "\n",
    "- Test AUC-ROC: 0.9760\n",
    "\n",
    "The ROC curve confirmed the model's ability to separate churners from non-churners with high confidence, showing a steep and well-formed curve that hugged the top-left corner."
   ]
  },
  {
   "cell_type": "markdown",
   "metadata": {},
   "source": [
    "### Conclusion"
   ]
  },
  {
   "cell_type": "markdown",
   "metadata": {},
   "source": [
    "By using the correct datasets to refine the dataset merge, applying meaningful feature engineering, and using encoding strategies tailored to each model type, I was able to significantly improve model performance. The final logistic regression model not only performed best in terms of AUC-ROC but also remained stable across validation and test sets. These results highlight its effectiveness and reliability for predicting customer churn."
   ]
  },
  {
   "cell_type": "markdown",
   "metadata": {},
   "source": [
    "<div class=\"alert alert-block alert-success\">\n",
    "<b>Reviewer's comment</b> This is a very nicely written report! Great job on this and best of luck in your job search!\n",
    "<a class=\"tocSkip\"></a>"
   ]
  },
  {
   "cell_type": "code",
   "execution_count": null,
   "metadata": {},
   "outputs": [],
   "source": []
  }
 ],
 "metadata": {
  "kernelspec": {
   "display_name": "Python 3 (ipykernel)",
   "language": "python",
   "name": "python3"
  },
  "language_info": {
   "codemirror_mode": {
    "name": "ipython",
    "version": 3
   },
   "file_extension": ".py",
   "mimetype": "text/x-python",
   "name": "python",
   "nbconvert_exporter": "python",
   "pygments_lexer": "ipython3",
   "version": "3.9.23"
  }
 },
 "nbformat": 4,
 "nbformat_minor": 4
}
